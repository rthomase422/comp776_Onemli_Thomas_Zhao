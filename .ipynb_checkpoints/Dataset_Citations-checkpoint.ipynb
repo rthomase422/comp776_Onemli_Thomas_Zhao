{
 "cells": [
  {
   "cell_type": "markdown",
   "id": "0aee91b4",
   "metadata": {},
   "source": [
    "# Citations for Custom Dataset"
   ]
  },
  {
   "cell_type": "markdown",
   "id": "7c336837",
   "metadata": {},
   "source": [
    "##\n",
    "    @misc{ comp776_final_project_fulldataset_dataset,\n",
    "        title = { COMP776_Final_Project_FullDataset Dataset },\n",
    "        type = { Open Source Dataset },\n",
    "        author = { COMP 776 },\n",
    "        howpublished = { \\url{ https://universe.roboflow.com/comp-776/comp776_final_project_fulldataset } },\n",
    "        url = { https://universe.roboflow.com/comp-776/comp776_final_project_fulldataset },\n",
    "        journal = { Roboflow Universe },\n",
    "        publisher = { Roboflow },\n",
    "        year = { 2023 },\n",
    "        month = { may },\n",
    "        note = { visited on 2023-05-05 },\n",
    "    }\n"
   ]
  }
 ],
 "metadata": {
  "kernelspec": {
   "display_name": "Python 3 (ipykernel)",
   "language": "python",
   "name": "python3"
  },
  "language_info": {
   "codemirror_mode": {
    "name": "ipython",
    "version": 3
   },
   "file_extension": ".py",
   "mimetype": "text/x-python",
   "name": "python",
   "nbconvert_exporter": "python",
   "pygments_lexer": "ipython3",
   "version": "3.9.16"
  }
 },
 "nbformat": 4,
 "nbformat_minor": 5
}
