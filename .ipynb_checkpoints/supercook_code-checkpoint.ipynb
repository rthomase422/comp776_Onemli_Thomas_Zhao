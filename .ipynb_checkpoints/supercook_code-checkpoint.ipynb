{
 "cells": [
  {
   "cell_type": "code",
   "execution_count": null,
   "id": "76779d25",
   "metadata": {},
   "outputs": [],
   "source": [
    "from roboflow import Roboflow\n",
    "rf = Roboflow(api_key=\"JtILEGcKBMGUN3rxWxxt\")\n",
    "project = rf.workspace(\"comp-776\").project(\"comp776_final_project_fulldataset\")\n",
    "model = project.version(2).model\n"
   ]
  },
  {
   "cell_type": "code",
   "execution_count": null,
   "id": "c7814fbd",
   "metadata": {},
   "outputs": [],
   "source": [
    "import glob\n",
    "import io\n",
    "from PIL import Image, ImageDraw, ImageFont\n",
    "import cv2\n",
    "import json\n",
    "import numpy as np\n",
    "import os"
   ]
  },
  {
   "cell_type": "code",
   "execution_count": null,
   "id": "5f120cab",
   "metadata": {},
   "outputs": [],
   "source": [
    "directory = os.getcwd()\n",
    "print(directory)\n",
    "slash = \"/\"\n",
    "config_directory = directory.replace(\"\\\\\",  slash)\n",
    "print(config_directory)"
   ]
  },
  {
   "cell_type": "code",
   "execution_count": null,
   "id": "284aebb4",
   "metadata": {},
   "outputs": [],
   "source": [
    "import random\n",
    "test_num = str(random.randint(1, 6))\n",
    "print(test_num)"
   ]
  },
  {
   "cell_type": "code",
   "execution_count": null,
   "id": "c81fbe8a",
   "metadata": {},
   "outputs": [],
   "source": [
    "image_directory = \"/comp776_example_images/\"\n",
    "raw_data_location = config_directory+image_directory+test_num\n",
    "print(raw_data_location)"
   ]
  },
  {
   "cell_type": "code",
   "execution_count": null,
   "id": "a39039b4",
   "metadata": {},
   "outputs": [],
   "source": [
    "preds_class = []\n",
    "for raw_data_extension in ['.jpg', '.jpeg', 'png']:\n",
    "# using the following line for raw_data_externsion results in inference on\n",
    "# specified file types only\n",
    "    raw_data_extension = \".jpg\" \n",
    "    # e.g jpg, jpeg, png\n",
    "    globbed_files = glob.glob(raw_data_location + '/*' + raw_data_extension)\n",
    "    \n",
    "    for img_path in globbed_files:\n",
    "        img = cv2.imread(img_path)\n",
    "        predictions = model.predict(img_path, confidence=50, overlap=30).json()['predictions']\n",
    "        \n",
    "        for result in predictions:\n",
    "            preds_class.append(result['class'])\n"
   ]
  },
  {
   "cell_type": "code",
   "execution_count": null,
   "id": "5ebabf5b",
   "metadata": {},
   "outputs": [],
   "source": [
    "print(preds_class)"
   ]
  },
  {
   "cell_type": "code",
   "execution_count": null,
   "id": "b36d20e6",
   "metadata": {},
   "outputs": [],
   "source": [
    "ingredients = set(preds_class)"
   ]
  },
  {
   "cell_type": "code",
   "execution_count": null,
   "id": "622256a7",
   "metadata": {},
   "outputs": [],
   "source": [
    "import selenium"
   ]
  },
  {
   "cell_type": "code",
   "execution_count": null,
   "id": "aab8874e",
   "metadata": {},
   "outputs": [],
   "source": [
    "import itertools\n",
    "\n",
    "all_combinations = []\n",
    "\n",
    "stuff = list(ingredients)\n",
    "for L in range(1, len(stuff) + 1):\n",
    "    for subset in itertools.combinations(stuff, L):\n",
    "        all_combinations.append(list(subset))"
   ]
  },
  {
   "cell_type": "code",
   "execution_count": null,
   "id": "9d8c3aa5",
   "metadata": {},
   "outputs": [],
   "source": [
    "all_combinations"
   ]
  },
  {
   "cell_type": "code",
   "execution_count": null,
   "id": "bf4a9eec",
   "metadata": {},
   "outputs": [],
   "source": [
    "ingredients_string = ' and '.join(all_combinations[0])\n",
    "ingredients_string"
   ]
  },
  {
   "cell_type": "code",
   "execution_count": null,
   "id": "b806e71c",
   "metadata": {},
   "outputs": [],
   "source": [
    "from selenium import webdriver\n",
    "from selenium.webdriver.common.by import By\n",
    "from selenium.webdriver.common.keys import Keys\n",
    "\n",
    "driver = webdriver.Firefox()\n",
    "driver.implicitly_wait(0.5)\n",
    "driver.get(\"https://www.supercook.com/recipes/en\")\n",
    "driver.quit()"
   ]
  },
  {
   "cell_type": "code",
   "execution_count": null,
   "id": "9e422ece",
   "metadata": {},
   "outputs": [],
   "source": [
    "recipes_and_website = []\n",
    "\n",
    "for i in range(len(all_combinations)):\n",
    "    driver = webdriver.Firefox()\n",
    "    driver.implicitly_wait(0.5)\n",
    "    driver.get(\"https://www.supercook.com/recipes/en\")\n",
    "    \n",
    "    \n",
    "    ingredients_string = ' and '.join(all_combinations[i])\n",
    "    driver.find_element(By.TAG_NAME, 'input').send_keys(ingredients_string + Keys.ENTER)\n",
    "    test_elements = driver.find_elements(By.CLASS_NAME,\"is-one-quarter-desktop\")\n",
    "    \n",
    "    item = []\n",
    "    \n",
    "    counter = 0\n",
    "    \n",
    "    for i in test_elements:\n",
    "        for e in i.find_elements(By.TAG_NAME, 'p'):\n",
    "            counter+=1\n",
    "            item.append(e.text)\n",
    "            \n",
    "            if counter % 2 == 0:\n",
    "                recipes_and_website.append(item)\n",
    "                item = []\n",
    "    \n",
    "    driver.quit()\n",
    "    \n",
    "    \"\"\"\n",
    "    TAKE THIS BREAK OUT TO RUN FULLY\n",
    "    \"\"\"\n",
    "    break\n",
    "    \n",
    "print(recipes_and_website)\n",
    "    "
   ]
  },
  {
   "cell_type": "code",
   "execution_count": null,
   "id": "47b7c9d9",
   "metadata": {},
   "outputs": [],
   "source": [
    "#The following commands should be used to install packages for this project\n",
    "\n",
    "#pip install roboflow\n",
    "#pip install selenium\n"
   ]
  }
 ],
 "metadata": {
  "kernelspec": {
   "display_name": "Python 3 (ipykernel)",
   "language": "python",
   "name": "python3"
  },
  "language_info": {
   "codemirror_mode": {
    "name": "ipython",
    "version": 3
   },
   "file_extension": ".py",
   "mimetype": "text/x-python",
   "name": "python",
   "nbconvert_exporter": "python",
   "pygments_lexer": "ipython3",
   "version": "3.9.16"
  }
 },
 "nbformat": 4,
 "nbformat_minor": 5
}
